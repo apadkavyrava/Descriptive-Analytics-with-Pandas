{
 "cells": [
  {
   "cell_type": "code",
   "execution_count": 1,
   "id": "c3224c6c",
   "metadata": {},
   "outputs": [],
   "source": [
    "import pandas as pd"
   ]
  },
  {
   "cell_type": "code",
   "execution_count": 16,
   "id": "f655a1a5",
   "metadata": {},
   "outputs": [],
   "source": [
    "raw_data = pd.read_csv(\"Raw_data/1_rawdata.csv\")\n",
    "groups = pd.read_csv(\"Raw_data/2_groups.csv\")"
   ]
  },
  {
   "cell_type": "markdown",
   "id": "18c37a74",
   "metadata": {},
   "source": [
    "### Dataset cleaning\n",
    "###### For the analysis of user behavior, only morning and evening brushing sessions are considered. If multiple brushing events occur within a short interval—specifically, if they are separated by less than two minutes—they are treated as a single session. Any session lasting less than 20 seconds is considered a random error and excluded from the analysis. In cases where a user brushes multiple times in either the morning or evening, only the longest session is retained, and all shorter sessions are discarded."
   ]
  },
  {
   "cell_type": "code",
   "execution_count": 17,
   "id": "78eb88b4",
   "metadata": {},
   "outputs": [
    {
     "data": {
      "text/html": [
       "<div>\n",
       "<style scoped>\n",
       "    .dataframe tbody tr th:only-of-type {\n",
       "        vertical-align: middle;\n",
       "    }\n",
       "\n",
       "    .dataframe tbody tr th {\n",
       "        vertical-align: top;\n",
       "    }\n",
       "\n",
       "    .dataframe thead th {\n",
       "        text-align: right;\n",
       "    }\n",
       "</style>\n",
       "<table border=\"1\" class=\"dataframe\">\n",
       "  <thead>\n",
       "    <tr style=\"text-align: right;\">\n",
       "      <th></th>\n",
       "      <th>ID</th>\n",
       "      <th>TimestampUTC</th>\n",
       "      <th>UpTime</th>\n",
       "      <th>DownTime</th>\n",
       "      <th>LeftTime</th>\n",
       "      <th>RightTime</th>\n",
       "      <th>NoneTime</th>\n",
       "      <th>Unnamed: 7</th>\n",
       "    </tr>\n",
       "  </thead>\n",
       "  <tbody>\n",
       "    <tr>\n",
       "      <th>0</th>\n",
       "      <td>PB2500017115</td>\n",
       "      <td>Mon Sep 18 2017 08:03:18 GMT+0100 (BST)</td>\n",
       "      <td>6.6</td>\n",
       "      <td>0.1</td>\n",
       "      <td>0.3</td>\n",
       "      <td>0.3</td>\n",
       "      <td>5.7</td>\n",
       "      <td>NaN</td>\n",
       "    </tr>\n",
       "    <tr>\n",
       "      <th>1</th>\n",
       "      <td>PB2500017115</td>\n",
       "      <td>Mon Sep 18 2017 08:06:32 GMT+0100 (BST)</td>\n",
       "      <td>0.0</td>\n",
       "      <td>3.8</td>\n",
       "      <td>1.8</td>\n",
       "      <td>0.0</td>\n",
       "      <td>1.4</td>\n",
       "      <td>NaN</td>\n",
       "    </tr>\n",
       "  </tbody>\n",
       "</table>\n",
       "</div>"
      ],
      "text/plain": [
       "             ID                             TimestampUTC  UpTime  DownTime  \\\n",
       "0  PB2500017115  Mon Sep 18 2017 08:03:18 GMT+0100 (BST)     6.6       0.1   \n",
       "1  PB2500017115  Mon Sep 18 2017 08:06:32 GMT+0100 (BST)     0.0       3.8   \n",
       "\n",
       "   LeftTime  RightTime  NoneTime Unnamed: 7  \n",
       "0       0.3        0.3       5.7        NaN  \n",
       "1       1.8        0.0       1.4        NaN  "
      ]
     },
     "execution_count": 17,
     "metadata": {},
     "output_type": "execute_result"
    }
   ],
   "source": [
    "# dataset stucture\n",
    "raw_data.head(2)"
   ]
  },
  {
   "cell_type": "code",
   "execution_count": 20,
   "id": "0c613203",
   "metadata": {},
   "outputs": [],
   "source": [
    "# Timestamp cleaning and reloading\n",
    "\n",
    "raw_data = raw_data[~pd.isna(raw_data.ID)]\n",
    "raw_data['TimestampUTC'] = pd.to_datetime(raw_data['TimestampUTC'])\n"
   ]
  },
  {
   "cell_type": "code",
   "execution_count": 21,
   "id": "790b2163",
   "metadata": {},
   "outputs": [],
   "source": [
    "# Extracting morning and evening sessions\n",
    "\n",
    "raw_data['hour'] = raw_data['TimestampUTC'].dt.hour\n",
    "time_of_day = lambda row: 'evening' if row.hour > 14 else 'morning'\n",
    "raw_data['sessions'] = raw_data.apply(time_of_day, axis = 1)\n",
    "\n"
   ]
  },
  {
   "cell_type": "code",
   "execution_count": 23,
   "id": "7905fe7d",
   "metadata": {},
   "outputs": [],
   "source": [
    "# Merge brush sessions that are less than 2 minutes apart into a single brush session\n",
    "raw_data = raw_data.sort_values(['ID', 'TimestampUTC'])\n",
    "raw_data['one_session_flag'] = ((raw_data.ID == raw_data.ID.shift())\n",
    "                            & ( raw_data.sessions == raw_data.sessions.shift())\n",
    "                            & ((raw_data.TimestampUTC - raw_data.TimestampUTC.shift()).astype('timedelta64[m]') < 2))\n",
    "\n",
    "raw_data['session_id'] = (raw_data.one_session_flag == False).cumsum()\n",
    "        \n",
    "        "
   ]
  },
  {
   "cell_type": "code",
   "execution_count": 25,
   "id": "e71faa70",
   "metadata": {},
   "outputs": [],
   "source": [
    "# The total length of a brush session is the sum of the up, down, left, right and none times.\n",
    "\n",
    "time_brush = raw_data[['UpTime', 'DownTime', 'LeftTime', 'RightTime', 'NoneTime']]\n",
    "\n",
    "raw_data['sub_total_time'] = time_brush.sum(axis =1)\n",
    "\n",
    "raw_data = raw_data.merge(raw_data.groupby(['ID', 'session_id']).sub_total_time.sum().rename('total_time')\n",
    "                        , on = ['ID', 'session_id'])"
   ]
  },
  {
   "cell_type": "code",
   "execution_count": 26,
   "id": "baf5cdb1",
   "metadata": {},
   "outputs": [],
   "source": [
    "#  Discard brush sessions that are less than 20 seconds in total\n",
    "raw_data = raw_data[raw_data.total_time >= 20]"
   ]
  },
  {
   "cell_type": "code",
   "execution_count": 29,
   "id": "7de61a64",
   "metadata": {},
   "outputs": [],
   "source": [
    "#  The longest sesstions\n",
    "\n",
    "raw_data['day'] = raw_data.TimestampUTC.dt.date\n",
    "\n",
    "dataset = (raw_data.merge(raw_data.groupby(['ID', 'day', 'sessions']).total_time.max()\n",
    "                        , on = ['ID', 'day', 'sessions', 'total_time'], how = 'inner')\n",
    "                           [['ID','day','sessions', 'total_time']]\n",
    "                        ).drop_duplicates()\n"
   ]
  },
  {
   "cell_type": "markdown",
   "id": "2d4735ec",
   "metadata": {},
   "source": [
    "### User Information\n",
    "#### We need to understand general user brushing behavior over the course of a week. To support this, we’ve defined a set of key questions that will help quantify user engagement and identify patterns in morning and evening usage.\n",
    "#### How frequently do users brush in the morning and in the evening throughout the week?\n",
    "##### Metric: Number of brushing events per user for each day of the week\n",
    "#### On how many days did a user brush both in the morning and evening?\n",
    "##### Metric: Count of days in which both a valid morning and evening session were recorded.\n",
    "#### What is the total number of valid brushing sessions per user during the week?\n",
    "#####  Metric: Sum of all valid morning and evening sessions across the week, excluding short or erroneous sessions.\n",
    "#### How much time does a user spend brushing on average per session?\n",
    "#####  Metric: Average session duration calculated using only valid brushing sessions."
   ]
  },
  {
   "cell_type": "code",
   "execution_count": 31,
   "id": "dd1ffa8a",
   "metadata": {},
   "outputs": [
    {
     "name": "stderr",
     "output_type": "stream",
     "text": [
      "/var/folders/9t/5gcr47m91839pxy0fm6mhjw00000gn/T/ipykernel_96089/195175636.py:19: FutureWarning: Series.dt.weekofyear and Series.dt.week have been deprecated.  Please use Series.dt.isocalendar().week instead.\n",
      "  dataset['week'] = dataset['day'].dt.week\n"
     ]
    }
   ],
   "source": [
    "# User information\n",
    "\n",
    "#How frequently do users brush in the morning and in the evening throughout the week?\n",
    "\n",
    "dataset['day'] = pd.to_datetime(dataset['day'])\n",
    "dataset['dow'] = dataset['day'].dt.day_name()\n",
    "\n",
    "num_of_session_dow = (pd.DataFrame(dataset.groupby(['ID','dow'])\n",
    "                        .sessions.count().rename('num_sessions')).reset_index())\n",
    "\n",
    "#On how many days did a user brush both in the morning and evening?\n",
    "\n",
    "num_twice_day = (num_of_session_dow[num_of_session_dow.num_sessions >1].\n",
    "                groupby('ID').dow.count().rename('total-brushes'))\n",
    "\n",
    "\n",
    "# What is the total number of valid brushing sessions per user during the week?\n",
    "\n",
    "dataset['week'] = dataset['day'].dt.week\n",
    "num_week = dataset.groupby(['ID','week']).sessions.count().rename('twice-brushes')\n",
    "\n",
    "\n",
    "# How much time does a user spend brushing on average per session?\n",
    "avr_time_session = dataset.groupby(['ID','week']).total_time.mean().rename('vg-brush-time')"
   ]
  },
  {
   "cell_type": "code",
   "execution_count": 40,
   "id": "13218a38",
   "metadata": {},
   "outputs": [],
   "source": [
    "final_table = (num_of_session_dow.pivot(index='ID', \n",
    "                        columns='dow', values='num_sessions').reset_index())\n",
    "\n",
    "final_table = final_table.merge(groups, left_on = 'ID', right_on = 'PBID')\n",
    "\n",
    "final_table = (final_table.merge(num_twice_day, on = 'ID')\n",
    "                        .merge(num_week, on = 'ID' )\n",
    "                        .merge(avr_time_session, on = 'ID')\n",
    "                        .rename(columns = {'Monday': 'mon'\n",
    "                                          , 'Tuesday' : 'tue'\n",
    "                                          , 'Wednesday' : 'wed'\n",
    "                                          , 'Thursday' : 'thu'\n",
    "                                          , 'Friday' : 'fri'\n",
    "                                          , 'Saturday': 'sat'\n",
    "                                          , 'Sunday': 'sun'}).fillna(0))\n",
    "\n",
    "final_table = final_table[['group', 'PBID', 'mon', 'tue', 'wed', 'thu', 'fri'\n",
    "                          , 'sat', 'sun', 'total-brushes', 'twice-brushes', 'vg-brush-time']]\n",
    "final_table.to_csv('Outcome/individual_metrics.csv')"
   ]
  },
  {
   "cell_type": "markdown",
   "id": "74d7cb77",
   "metadata": {},
   "source": [
    "###  Group Dynamics \n",
    "#### To evaluate brushing behavior across different user groups, we aim to analyze group-level engagement and performance. This will help us identify which groups demonstrate stronger brushing habits and where improvements may be needed.\n",
    "\n",
    "#### How active are users in each group overall?\n",
    "##### Metric: Total number of valid brushing sessions recorded per group.\n",
    "\n",
    "#### How consistently do users in each group brush?\n",
    "##### Metric: Average number of valid brushing sessions per user within each group.\n",
    "\n",
    "#### How much time do users in each group spend brushing?\n",
    "##### Metric: Average brushing duration per user, considering only valid sessions.\n",
    "\n",
    "#### Which group shows the highest overall brushing engagement and quality?\n",
    "##### Metric: A composite performance indicator (e.g., highest total sessions, highest average duration, or highest percentage of users brushing twice daily), used to identify the top-performing group."
   ]
  },
  {
   "cell_type": "code",
   "execution_count": 36,
   "id": "ec269b2c",
   "metadata": {},
   "outputs": [],
   "source": [
    "\n",
    "\n",
    "# How active are users in each group overall?\n",
    "\n",
    "dataset2 = dataset.merge(groups, left_on = 'ID', right_on = 'PBID')\n",
    "total_sessions = pd.DataFrame(dataset2.groupby('group').sessions.count().rename('total_sessions'))\n",
    "\n",
    "# How consistently do users in each group brush?\n",
    "\n",
    "temp_count = pd.DataFrame(dataset2.groupby(['group', 'PBID']).sessions.count().rename('avg_sessions_per_user'))\n",
    "user_sessions = temp_count.groupby('group').avg_sessions_per_user.mean()\n",
    "\n",
    "# How much time do users in each group spend brushing?\n",
    "\n",
    "temp_long = pd.DataFrame(dataset2.groupby(['group', 'PBID']).total_time.mean().rename('avg_time_per_user'))\n",
    "user_long = temp_long.groupby('group').avg_time_per_user.mean()"
   ]
  },
  {
   "cell_type": "code",
   "execution_count": 37,
   "id": "62e74181",
   "metadata": {},
   "outputs": [],
   "source": [
    "# Merge all session together for ranking\n",
    "group_data = (total_sessions.merge(user_sessions, on = 'group')\n",
    "                            .merge(user_long, on = 'group')).reset_index()"
   ]
  },
  {
   "cell_type": "code",
   "execution_count": 41,
   "id": "83001d04",
   "metadata": {},
   "outputs": [],
   "source": [
    "# Average perfomance and ranking\n",
    "group_data['performance'] =( (group_data.avg_time_per_user * group_data.avg_sessions_per_user)\n",
    "                        / group_data.total_sessions)\n",
    "\n",
    "group_data = group_data.sort_values('performance', ascending= False)\n",
    "\n",
    "group_data['rank'] = group_data.performance.rank( axis = 0, ascending = False)\n",
    "group_data.to_csv('Outcome/group_metrics.csv')"
   ]
  },
  {
   "cell_type": "code",
   "execution_count": null,
   "id": "29de6034",
   "metadata": {},
   "outputs": [],
   "source": []
  }
 ],
 "metadata": {
  "kernelspec": {
   "display_name": "Python 3 (ipykernel)",
   "language": "python",
   "name": "python3"
  },
  "language_info": {
   "codemirror_mode": {
    "name": "ipython",
    "version": 3
   },
   "file_extension": ".py",
   "mimetype": "text/x-python",
   "name": "python",
   "nbconvert_exporter": "python",
   "pygments_lexer": "ipython3",
   "version": "3.9.7"
  }
 },
 "nbformat": 4,
 "nbformat_minor": 5
}
